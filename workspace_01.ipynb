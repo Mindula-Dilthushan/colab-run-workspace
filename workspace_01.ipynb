{
  "nbformat": 4,
  "nbformat_minor": 0,
  "metadata": {
    "colab": {
      "name": "workspace-01.ipynb",
      "provenance": [],
      "authorship_tag": "ABX9TyNczAYZ+tHlYB/hOBjYV0fQ",
      "include_colab_link": true
    },
    "kernelspec": {
      "name": "python3",
      "display_name": "Python 3"
    },
    "language_info": {
      "name": "python"
    }
  },
  "cells": [
    {
      "cell_type": "markdown",
      "metadata": {
        "id": "view-in-github",
        "colab_type": "text"
      },
      "source": [
        "<a href=\"https://colab.research.google.com/github/Mindula-Dilthushan/colab-workspace/blob/master/workspace_01.ipynb\" target=\"_parent\"><img src=\"https://colab.research.google.com/assets/colab-badge.svg\" alt=\"Open In Colab\"/></a>"
      ]
    },
    {
      "cell_type": "code",
      "execution_count": null,
      "metadata": {
        "id": "WFugvJyZpr7a"
      },
      "outputs": [],
      "source": [
        ""
      ]
    }
  ]
}